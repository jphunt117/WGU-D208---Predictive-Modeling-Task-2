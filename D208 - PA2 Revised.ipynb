{
 "cells": [
  {
   "cell_type": "code",
   "execution_count": 1,
   "id": "a1a09201-d55d-48f6-81e9-0572abc2c411",
   "metadata": {},
   "outputs": [],
   "source": [
    "#Import all packages\n",
    "import pandas as pd\n",
    "import numpy as np\n",
    "from pandas import Series, DataFrame\n",
    "\n",
    "import seaborn as sns\n",
    "import matplotlib.pyplot as plt\n",
    "%matplotlib inline\n",
    "\n",
    "import statsmodels.api as sm\n",
    "from scipy import stats\n",
    "\n",
    "import sklearn\n",
    "from sklearn import  preprocessing\n",
    "from sklearn.linear_model import LogisticRegression\n",
    "from sklearn.model_selection import train_test_split\n",
    "from sklearn import metrics\n",
    "from sklearn.metrics import classification_report, confusion_matrix"
   ]
  },
  {
   "cell_type": "code",
   "execution_count": 2,
   "id": "a18b5b46-96c7-4f0c-b231-f00fafbf4a3d",
   "metadata": {},
   "outputs": [
    {
     "data": {
      "text/html": [
       "<div>\n",
       "<style scoped>\n",
       "    .dataframe tbody tr th:only-of-type {\n",
       "        vertical-align: middle;\n",
       "    }\n",
       "\n",
       "    .dataframe tbody tr th {\n",
       "        vertical-align: top;\n",
       "    }\n",
       "\n",
       "    .dataframe thead th {\n",
       "        text-align: right;\n",
       "    }\n",
       "</style>\n",
       "<table border=\"1\" class=\"dataframe\">\n",
       "  <thead>\n",
       "    <tr style=\"text-align: right;\">\n",
       "      <th></th>\n",
       "      <th>Churn_num</th>\n",
       "      <th>Children</th>\n",
       "      <th>Age</th>\n",
       "      <th>Income</th>\n",
       "      <th>Outage_sec_perweek</th>\n",
       "      <th>Yearly_equip_failure</th>\n",
       "      <th>Tenure</th>\n",
       "      <th>MonthlyCharge</th>\n",
       "      <th>Bandwidth_GB_Year</th>\n",
       "      <th>Tablet_num</th>\n",
       "      <th>...</th>\n",
       "      <th>DeviceProtection_num</th>\n",
       "      <th>TechSupport_num</th>\n",
       "      <th>StreamingTV_num</th>\n",
       "      <th>StreamingMovies_num</th>\n",
       "      <th>One year</th>\n",
       "      <th>Two Year</th>\n",
       "      <th>Fiber Optic</th>\n",
       "      <th>None</th>\n",
       "      <th>Male</th>\n",
       "      <th>Nonbinary</th>\n",
       "    </tr>\n",
       "  </thead>\n",
       "  <tbody>\n",
       "    <tr>\n",
       "      <th>count</th>\n",
       "      <td>10000.000000</td>\n",
       "      <td>10000.0000</td>\n",
       "      <td>10000.000000</td>\n",
       "      <td>10000.000000</td>\n",
       "      <td>10000.000000</td>\n",
       "      <td>10000.000000</td>\n",
       "      <td>10000.000000</td>\n",
       "      <td>10000.000000</td>\n",
       "      <td>10000.000000</td>\n",
       "      <td>10000.000000</td>\n",
       "      <td>...</td>\n",
       "      <td>10000.000000</td>\n",
       "      <td>10000.000000</td>\n",
       "      <td>10000.000000</td>\n",
       "      <td>10000.000000</td>\n",
       "      <td>10000.000000</td>\n",
       "      <td>10000.000000</td>\n",
       "      <td>10000.000000</td>\n",
       "      <td>10000.000000</td>\n",
       "      <td>10000.000000</td>\n",
       "      <td>10000.000000</td>\n",
       "    </tr>\n",
       "    <tr>\n",
       "      <th>mean</th>\n",
       "      <td>0.265000</td>\n",
       "      <td>2.0877</td>\n",
       "      <td>53.078400</td>\n",
       "      <td>39806.926771</td>\n",
       "      <td>10.001848</td>\n",
       "      <td>0.398000</td>\n",
       "      <td>34.526188</td>\n",
       "      <td>172.624816</td>\n",
       "      <td>3392.341550</td>\n",
       "      <td>0.299100</td>\n",
       "      <td>...</td>\n",
       "      <td>0.438600</td>\n",
       "      <td>0.375000</td>\n",
       "      <td>0.492900</td>\n",
       "      <td>0.489000</td>\n",
       "      <td>0.210200</td>\n",
       "      <td>0.244200</td>\n",
       "      <td>0.440800</td>\n",
       "      <td>0.212900</td>\n",
       "      <td>0.474400</td>\n",
       "      <td>0.023100</td>\n",
       "    </tr>\n",
       "    <tr>\n",
       "      <th>std</th>\n",
       "      <td>0.441355</td>\n",
       "      <td>2.1472</td>\n",
       "      <td>20.698882</td>\n",
       "      <td>28199.916702</td>\n",
       "      <td>2.976019</td>\n",
       "      <td>0.635953</td>\n",
       "      <td>26.443063</td>\n",
       "      <td>42.943094</td>\n",
       "      <td>2185.294852</td>\n",
       "      <td>0.457887</td>\n",
       "      <td>...</td>\n",
       "      <td>0.496241</td>\n",
       "      <td>0.484147</td>\n",
       "      <td>0.499975</td>\n",
       "      <td>0.499904</td>\n",
       "      <td>0.407471</td>\n",
       "      <td>0.429633</td>\n",
       "      <td>0.496508</td>\n",
       "      <td>0.409378</td>\n",
       "      <td>0.499369</td>\n",
       "      <td>0.150229</td>\n",
       "    </tr>\n",
       "    <tr>\n",
       "      <th>min</th>\n",
       "      <td>0.000000</td>\n",
       "      <td>0.0000</td>\n",
       "      <td>18.000000</td>\n",
       "      <td>348.670000</td>\n",
       "      <td>0.099747</td>\n",
       "      <td>0.000000</td>\n",
       "      <td>1.000259</td>\n",
       "      <td>79.978860</td>\n",
       "      <td>155.506715</td>\n",
       "      <td>0.000000</td>\n",
       "      <td>...</td>\n",
       "      <td>0.000000</td>\n",
       "      <td>0.000000</td>\n",
       "      <td>0.000000</td>\n",
       "      <td>0.000000</td>\n",
       "      <td>0.000000</td>\n",
       "      <td>0.000000</td>\n",
       "      <td>0.000000</td>\n",
       "      <td>0.000000</td>\n",
       "      <td>0.000000</td>\n",
       "      <td>0.000000</td>\n",
       "    </tr>\n",
       "    <tr>\n",
       "      <th>25%</th>\n",
       "      <td>0.000000</td>\n",
       "      <td>0.0000</td>\n",
       "      <td>35.000000</td>\n",
       "      <td>19224.717500</td>\n",
       "      <td>8.018214</td>\n",
       "      <td>0.000000</td>\n",
       "      <td>7.917694</td>\n",
       "      <td>139.979239</td>\n",
       "      <td>1236.470827</td>\n",
       "      <td>0.000000</td>\n",
       "      <td>...</td>\n",
       "      <td>0.000000</td>\n",
       "      <td>0.000000</td>\n",
       "      <td>0.000000</td>\n",
       "      <td>0.000000</td>\n",
       "      <td>0.000000</td>\n",
       "      <td>0.000000</td>\n",
       "      <td>0.000000</td>\n",
       "      <td>0.000000</td>\n",
       "      <td>0.000000</td>\n",
       "      <td>0.000000</td>\n",
       "    </tr>\n",
       "    <tr>\n",
       "      <th>50%</th>\n",
       "      <td>0.000000</td>\n",
       "      <td>1.0000</td>\n",
       "      <td>53.000000</td>\n",
       "      <td>33170.605000</td>\n",
       "      <td>10.018560</td>\n",
       "      <td>0.000000</td>\n",
       "      <td>35.430507</td>\n",
       "      <td>167.484700</td>\n",
       "      <td>3279.536903</td>\n",
       "      <td>0.000000</td>\n",
       "      <td>...</td>\n",
       "      <td>0.000000</td>\n",
       "      <td>0.000000</td>\n",
       "      <td>0.000000</td>\n",
       "      <td>0.000000</td>\n",
       "      <td>0.000000</td>\n",
       "      <td>0.000000</td>\n",
       "      <td>0.000000</td>\n",
       "      <td>0.000000</td>\n",
       "      <td>0.000000</td>\n",
       "      <td>0.000000</td>\n",
       "    </tr>\n",
       "    <tr>\n",
       "      <th>75%</th>\n",
       "      <td>1.000000</td>\n",
       "      <td>3.0000</td>\n",
       "      <td>71.000000</td>\n",
       "      <td>53246.170000</td>\n",
       "      <td>11.969485</td>\n",
       "      <td>1.000000</td>\n",
       "      <td>61.479795</td>\n",
       "      <td>200.734725</td>\n",
       "      <td>5586.141370</td>\n",
       "      <td>1.000000</td>\n",
       "      <td>...</td>\n",
       "      <td>1.000000</td>\n",
       "      <td>1.000000</td>\n",
       "      <td>1.000000</td>\n",
       "      <td>1.000000</td>\n",
       "      <td>0.000000</td>\n",
       "      <td>0.000000</td>\n",
       "      <td>1.000000</td>\n",
       "      <td>0.000000</td>\n",
       "      <td>1.000000</td>\n",
       "      <td>0.000000</td>\n",
       "    </tr>\n",
       "    <tr>\n",
       "      <th>max</th>\n",
       "      <td>1.000000</td>\n",
       "      <td>10.0000</td>\n",
       "      <td>89.000000</td>\n",
       "      <td>258900.700000</td>\n",
       "      <td>21.207230</td>\n",
       "      <td>6.000000</td>\n",
       "      <td>71.999280</td>\n",
       "      <td>290.160419</td>\n",
       "      <td>7158.981530</td>\n",
       "      <td>1.000000</td>\n",
       "      <td>...</td>\n",
       "      <td>1.000000</td>\n",
       "      <td>1.000000</td>\n",
       "      <td>1.000000</td>\n",
       "      <td>1.000000</td>\n",
       "      <td>1.000000</td>\n",
       "      <td>1.000000</td>\n",
       "      <td>1.000000</td>\n",
       "      <td>1.000000</td>\n",
       "      <td>1.000000</td>\n",
       "      <td>1.000000</td>\n",
       "    </tr>\n",
       "  </tbody>\n",
       "</table>\n",
       "<p>8 rows × 24 columns</p>\n",
       "</div>"
      ],
      "text/plain": [
       "          Churn_num    Children           Age         Income  \\\n",
       "count  10000.000000  10000.0000  10000.000000   10000.000000   \n",
       "mean       0.265000      2.0877     53.078400   39806.926771   \n",
       "std        0.441355      2.1472     20.698882   28199.916702   \n",
       "min        0.000000      0.0000     18.000000     348.670000   \n",
       "25%        0.000000      0.0000     35.000000   19224.717500   \n",
       "50%        0.000000      1.0000     53.000000   33170.605000   \n",
       "75%        1.000000      3.0000     71.000000   53246.170000   \n",
       "max        1.000000     10.0000     89.000000  258900.700000   \n",
       "\n",
       "       Outage_sec_perweek  Yearly_equip_failure        Tenure  MonthlyCharge  \\\n",
       "count        10000.000000          10000.000000  10000.000000   10000.000000   \n",
       "mean            10.001848              0.398000     34.526188     172.624816   \n",
       "std              2.976019              0.635953     26.443063      42.943094   \n",
       "min              0.099747              0.000000      1.000259      79.978860   \n",
       "25%              8.018214              0.000000      7.917694     139.979239   \n",
       "50%             10.018560              0.000000     35.430507     167.484700   \n",
       "75%             11.969485              1.000000     61.479795     200.734725   \n",
       "max             21.207230              6.000000     71.999280     290.160419   \n",
       "\n",
       "       Bandwidth_GB_Year    Tablet_num  ...  DeviceProtection_num  \\\n",
       "count       10000.000000  10000.000000  ...          10000.000000   \n",
       "mean         3392.341550      0.299100  ...              0.438600   \n",
       "std          2185.294852      0.457887  ...              0.496241   \n",
       "min           155.506715      0.000000  ...              0.000000   \n",
       "25%          1236.470827      0.000000  ...              0.000000   \n",
       "50%          3279.536903      0.000000  ...              0.000000   \n",
       "75%          5586.141370      1.000000  ...              1.000000   \n",
       "max          7158.981530      1.000000  ...              1.000000   \n",
       "\n",
       "       TechSupport_num  StreamingTV_num  StreamingMovies_num      One year  \\\n",
       "count     10000.000000     10000.000000         10000.000000  10000.000000   \n",
       "mean          0.375000         0.492900             0.489000      0.210200   \n",
       "std           0.484147         0.499975             0.499904      0.407471   \n",
       "min           0.000000         0.000000             0.000000      0.000000   \n",
       "25%           0.000000         0.000000             0.000000      0.000000   \n",
       "50%           0.000000         0.000000             0.000000      0.000000   \n",
       "75%           1.000000         1.000000             1.000000      0.000000   \n",
       "max           1.000000         1.000000             1.000000      1.000000   \n",
       "\n",
       "           Two Year   Fiber Optic          None          Male     Nonbinary  \n",
       "count  10000.000000  10000.000000  10000.000000  10000.000000  10000.000000  \n",
       "mean       0.244200      0.440800      0.212900      0.474400      0.023100  \n",
       "std        0.429633      0.496508      0.409378      0.499369      0.150229  \n",
       "min        0.000000      0.000000      0.000000      0.000000      0.000000  \n",
       "25%        0.000000      0.000000      0.000000      0.000000      0.000000  \n",
       "50%        0.000000      0.000000      0.000000      0.000000      0.000000  \n",
       "75%        0.000000      1.000000      0.000000      1.000000      0.000000  \n",
       "max        1.000000      1.000000      1.000000      1.000000      1.000000  \n",
       "\n",
       "[8 rows x 24 columns]"
      ]
     },
     "execution_count": 2,
     "metadata": {},
     "output_type": "execute_result"
    }
   ],
   "source": [
    "#Load the data set into Pandas\n",
    "df = pd.read_csv('churn_prepared.csv', index_col = 0)\n",
    "df.describe()"
   ]
  },
  {
   "cell_type": "code",
   "execution_count": 3,
   "id": "a3671105-6d08-44b6-83a7-c7594943027a",
   "metadata": {},
   "outputs": [],
   "source": [
    "#Prepare data for train test split [4][5]\n",
    "feature = ['Children', 'Age', 'Income', 'Outage_sec_perweek', 'Yearly_equip_failure', 'Tenure', 'MonthlyCharge', 'Bandwidth_GB_Year', 'Tablet_num', 'Phone_num',\n",
    "           'Multiple_num', 'OnlineSecurity_num', 'OnlineBackup_num', 'DeviceProtection_num', 'TechSupport_num', 'StreamingTV_num', 'StreamingMovies_num', 'One year',\n",
    "           'Two Year', 'Fiber Optic', 'None', 'Male', 'Nonbinary']\n",
    "X = df[feature]\n",
    "y = df['Churn_num']"
   ]
  },
  {
   "cell_type": "code",
   "execution_count": 4,
   "id": "3ffeec4d-7a0a-403c-8226-88bb24507955",
   "metadata": {},
   "outputs": [],
   "source": [
    "#Split the data set with an 80/20 split\n",
    "X_train, X_test, y_train, y_test = train_test_split(X, y, test_size = 0.8, random_state = 25)"
   ]
  },
  {
   "cell_type": "code",
   "execution_count": 5,
   "id": "6ba7dab5-4e3f-43f8-8df0-476b597a6c9f",
   "metadata": {},
   "outputs": [
    {
     "data": {
      "text/plain": [
       "LogisticRegression(random_state=0, solver='liblinear')"
      ]
     },
     "execution_count": 5,
     "metadata": {},
     "output_type": "execute_result"
    }
   ],
   "source": [
    "#Run logistic regression model and make prediction [4]\n",
    "model = LogisticRegression(solver = 'liblinear', random_state = 0)\n",
    "model.fit(X_train, y_train)"
   ]
  },
  {
   "cell_type": "code",
   "execution_count": 6,
   "id": "8a7fab15-4986-4ae4-8f91-4a69dc16ce77",
   "metadata": {},
   "outputs": [],
   "source": [
    "y_pred = model.predict(X_test)"
   ]
  },
  {
   "cell_type": "code",
   "execution_count": 7,
   "id": "c3361762-de79-40a2-aa90-ecfa3c93678d",
   "metadata": {},
   "outputs": [
    {
     "name": "stdout",
     "output_type": "stream",
     "text": [
      "[[5203  669]\n",
      " [ 787 1341]]\n"
     ]
    }
   ],
   "source": [
    "#Print out a confusion matrix[4]\n",
    "cnf_matrix = metrics.confusion_matrix(y_test, y_pred)\n",
    "print(cnf_matrix)"
   ]
  },
  {
   "cell_type": "code",
   "execution_count": 8,
   "id": "f7a1af89-31c8-41e4-bfe4-f676bf0ae3f8",
   "metadata": {},
   "outputs": [
    {
     "data": {
      "image/png": "[encoded data removed]",
      "text/plain": [
       "<Figure size 432x288 with 2 Axes>"
      ]
     },
     "metadata": {
      "needs_background": "light"
     },
     "output_type": "display_data"
    }
   ],
   "source": [
    "#Use seaborn heatmap to visualize the confusion matrix\n",
    "sns.heatmap(pd.DataFrame(cnf_matrix), annot = True, fmt = 'g')\n",
    "plt.tight_layout()\n",
    "plt.title('Confusion Matrix')\n",
    "plt.ylabel('Actual')\n",
    "plt.xlabel('Predicted')\n",
    "#plt.savefig('matrix1.jpg')"
   ]
  },
  {
   "cell_type": "code",
   "execution_count": 9,
   "id": "a81a00c0-564b-4858-82b5-027bf9ab8523",
   "metadata": {},
   "outputs": [
    {
     "name": "stdout",
     "output_type": "stream",
     "text": [
      "Accuracy:  0.818\n",
      "Precision:  0.6671641791044776\n",
      "Recall:  0.6301691729323309\n"
     ]
    }
   ],
   "source": [
    "#Display the accuracy, precision and recall of the model\n",
    "print(\"Accuracy: \", metrics.accuracy_score(y_test, y_pred))\n",
    "print(\"Precision: \", metrics.precision_score(y_test, y_pred))\n",
    "print(\"Recall: \", metrics.recall_score(y_test, y_pred))"
   ]
  },
  {
   "cell_type": "code",
   "execution_count": 10,
   "id": "c089f5cb-34d5-4bd9-b3f6-b15331ae2140",
   "metadata": {},
   "outputs": [
    {
     "name": "stdout",
     "output_type": "stream",
     "text": [
      "              precision    recall  f1-score   support\n",
      "\n",
      "           0       0.87      0.89      0.88      5872\n",
      "           1       0.67      0.63      0.65      2128\n",
      "\n",
      "    accuracy                           0.82      8000\n",
      "   macro avg       0.77      0.76      0.76      8000\n",
      "weighted avg       0.82      0.82      0.82      8000\n",
      "\n"
     ]
    }
   ],
   "source": [
    "#Print classification report\n",
    "print(classification_report(y_test, y_pred))"
   ]
  },
  {
   "cell_type": "code",
   "execution_count": 11,
   "id": "6940a758-abe9-479e-bdbb-dc029d183df9",
   "metadata": {},
   "outputs": [
    {
     "name": "stdout",
     "output_type": "stream",
     "text": [
      "Optimization terminated successfully.\n",
      "         Current function value: 0.226318\n",
      "         Iterations 9\n",
      "                           Logit Regression Results                           \n",
      "==============================================================================\n",
      "Dep. Variable:              Churn_num   No. Observations:                10000\n",
      "Model:                          Logit   Df Residuals:                     9977\n",
      "Method:                           MLE   Df Model:                           22\n",
      "Date:                Tue, 22 Feb 2022   Pseudo R-squ.:                  0.6086\n",
      "Time:                        15:09:55   Log-Likelihood:                -2263.2\n",
      "converged:                       True   LL-Null:                       -5782.2\n",
      "Covariance Type:            nonrobust   LLR p-value:                     0.000\n",
      "========================================================================================\n",
      "                           coef    std err          z      P>|z|      [0.025      0.975]\n",
      "----------------------------------------------------------------------------------------\n",
      "Children                 0.4014      0.047      8.626      0.000       0.310       0.493\n",
      "Age                     -0.0417      0.004     -9.340      0.000      -0.051      -0.033\n",
      "Income                4.038e-07   1.34e-06      0.301      0.763   -2.22e-06    3.03e-06\n",
      "Outage_sec_perweek      -0.0052      0.013     -0.411      0.681      -0.030       0.020\n",
      "Yearly_equip_failure    -0.0359      0.059     -0.603      0.547      -0.152       0.081\n",
      "Tenure                   0.9430      0.111      8.523      0.000       0.726       1.160\n",
      "MonthlyCharge            0.0742      0.008      9.195      0.000       0.058       0.090\n",
      "Bandwidth_GB_Year       -0.0129      0.001     -9.471      0.000      -0.016      -0.010\n",
      "Tablet_num              -0.0327      0.083     -0.395      0.693      -0.195       0.129\n",
      "Phone_num               -0.2659      0.129     -2.067      0.039      -0.518      -0.014\n",
      "Multiple_num             0.1007      0.187      0.540      0.589      -0.265       0.466\n",
      "OnlineSecurity_num       0.6199      0.118      5.243      0.000       0.388       0.852\n",
      "OnlineBackup_num         0.3252      0.107      3.037      0.002       0.115       0.535\n",
      "DeviceProtection_num     0.5949      0.090      6.621      0.000       0.419       0.771\n",
      "TechSupport_num         -0.5988      0.121     -4.946      0.000      -0.836      -0.362\n",
      "StreamingTV_num          2.5822      0.153     16.906      0.000       2.283       2.882\n",
      "StreamingMovies_num      2.1252      0.202     10.513      0.000       1.729       2.521\n",
      "One year                -3.2569      0.124    -26.238      0.000      -3.500      -3.014\n",
      "Two Year                -3.3570      0.122    -27.568      0.000      -3.596      -3.118\n",
      "Fiber Optic             -8.1269      0.719    -11.311      0.000      -9.535      -6.719\n",
      "None                    -5.7872      0.473    -12.240      0.000      -6.714      -4.860\n",
      "Male                     1.0394      0.120      8.655      0.000       0.804       1.275\n",
      "Nonbinary               -0.4679      0.262     -1.784      0.074      -0.982       0.046\n",
      "========================================================================================\n"
     ]
    }
   ],
   "source": [
    "#Run initial model with logit\n",
    "initial_model = sm.Logit(y, X).fit()\n",
    "print(initial_model.summary())"
   ]
  },
  {
   "cell_type": "code",
   "execution_count": 12,
   "id": "e49b7adc-1eec-462b-9286-6c004e26e5ba",
   "metadata": {},
   "outputs": [
    {
     "data": {
      "text/plain": [
       "<AxesSubplot:>"
      ]
     },
     "execution_count": 12,
     "metadata": {},
     "output_type": "execute_result"
    },
    {
     "data": {
      "image/png": "[encoded data removed]",
      "text/plain": [
       "<Figure size 1296x1008 with 2 Axes>"
      ]
     },
     "metadata": {
      "needs_background": "light"
     },
     "output_type": "display_data"
    }
   ],
   "source": [
    "#Create correlation heatmap for better visualization of model reduction and variable selection\n",
    "plt.figure(figsize = (18, 14))\n",
    "sns.heatmap(df.corr(), linewidth = 0.5)\n",
    "#plt.savefig('heatmap.jpg')"
   ]
  },
  {
   "cell_type": "code",
   "execution_count": 13,
   "id": "9da81f28-8575-4289-a0b4-991db68c2dd0",
   "metadata": {},
   "outputs": [],
   "source": [
    "#Prepare for reduced model\n",
    "feature2 = ['Tenure', 'MonthlyCharge', 'Bandwidth_GB_Year', 'Multiple_num', 'StreamingTV_num', 'StreamingMovies_num', 'One year', 'Two Year']\n",
    "X2 = df[feature2]\n",
    "y = df['Churn_num']"
   ]
  },
  {
   "cell_type": "code",
   "execution_count": 14,
   "id": "fb7a54bb-e955-46ed-bef4-d634c8443a84",
   "metadata": {},
   "outputs": [],
   "source": [
    "X_train, X_test, y_train, y_test = train_test_split(X2, y, test_size = 0.8, random_state = 25)"
   ]
  },
  {
   "cell_type": "code",
   "execution_count": 15,
   "id": "4199f62d-b221-41b7-b2fd-920d49f70c9f",
   "metadata": {},
   "outputs": [
    {
     "data": {
      "text/plain": [
       "LogisticRegression(random_state=0, solver='liblinear')"
      ]
     },
     "execution_count": 15,
     "metadata": {},
     "output_type": "execute_result"
    }
   ],
   "source": [
    "#Run reduced model and make prediction\n",
    "model2 = LogisticRegression(solver = 'liblinear', random_state = 0)\n",
    "model2.fit(X_train, y_train)"
   ]
  },
  {
   "cell_type": "code",
   "execution_count": 16,
   "id": "b6b4b3f9-41eb-4d9b-988c-3171d4c926b2",
   "metadata": {},
   "outputs": [],
   "source": [
    "y_pred2 = model2.predict(X_test)"
   ]
  },
  {
   "cell_type": "code",
   "execution_count": 17,
   "id": "d4288df0-0d1b-4f9c-8db3-c8be4c3fca30",
   "metadata": {},
   "outputs": [
    {
     "name": "stdout",
     "output_type": "stream",
     "text": [
      "[[5473  399]\n",
      " [ 460 1668]]\n"
     ]
    }
   ],
   "source": [
    "#Print out a confusion matrix[4]\n",
    "cnf_matrix2 = metrics.confusion_matrix(y_test, y_pred2)\n",
    "print(cnf_matrix2)"
   ]
  },
  {
   "cell_type": "code",
   "execution_count": 18,
   "id": "c172e89f-e261-4395-817c-fe9e26583ac3",
   "metadata": {},
   "outputs": [
    {
     "data": {
      "image/png": "[encoded data removed]",
      "text/plain": [
       "<Figure size 432x288 with 2 Axes>"
      ]
     },
     "metadata": {
      "needs_background": "light"
     },
     "output_type": "display_data"
    }
   ],
   "source": [
    "#Use seaborn for better visualization of reduced confusion matrix\n",
    "sns.heatmap(pd.DataFrame(cnf_matrix2), annot = True, fmt = 'g')\n",
    "plt.tight_layout()\n",
    "plt.title('Confusion Matrix')\n",
    "plt.ylabel('Actual')\n",
    "plt.xlabel('Predicted')\n",
    "#plt.savefig('matrix2.jpg')"
   ]
  },
  {
   "cell_type": "code",
   "execution_count": 19,
   "id": "9ade5128-9dfa-4861-a015-d5878428838b",
   "metadata": {},
   "outputs": [
    {
     "name": "stdout",
     "output_type": "stream",
     "text": [
      "Accuracy Initial:  0.818\n",
      "Accuracy Reduced:  0.892625\n",
      "\n",
      "Precision Initial:  0.6671641791044776\n",
      "Precision Reduced:  0.806966618287373\n",
      "\n",
      "Recall Initial:  0.6301691729323309\n",
      "Recall Reduced:  0.7838345864661654\n"
     ]
    }
   ],
   "source": [
    "#Display the accuracy, precision and recall of the model\n",
    "print(\"Accuracy Initial: \", metrics.accuracy_score(y_test, y_pred))\n",
    "print(\"Accuracy Reduced: \", metrics.accuracy_score(y_test, y_pred2))\n",
    "print(\"\")\n",
    "print(\"Precision Initial: \", metrics.precision_score(y_test, y_pred))\n",
    "print(\"Precision Reduced: \", metrics.precision_score(y_test, y_pred2))\n",
    "print(\"\")\n",
    "print(\"Recall Initial: \", metrics.recall_score(y_test, y_pred))\n",
    "print(\"Recall Reduced: \", metrics.recall_score(y_test, y_pred2))"
   ]
  },
  {
   "cell_type": "code",
   "execution_count": 20,
   "id": "7263c1db-9e6e-426f-bea3-2a4d5de03977",
   "metadata": {},
   "outputs": [
    {
     "name": "stdout",
     "output_type": "stream",
     "text": [
      "              precision    recall  f1-score   support\n",
      "\n",
      "           0       0.92      0.93      0.93      5872\n",
      "           1       0.81      0.78      0.80      2128\n",
      "\n",
      "    accuracy                           0.89      8000\n",
      "   macro avg       0.86      0.86      0.86      8000\n",
      "weighted avg       0.89      0.89      0.89      8000\n",
      "\n"
     ]
    }
   ],
   "source": [
    "#Print classification report\n",
    "print(classification_report(y_test, y_pred2))"
   ]
  },
  {
   "cell_type": "code",
   "execution_count": 21,
   "id": "aa076e48-56f8-4b2a-ba2d-845e780136d7",
   "metadata": {},
   "outputs": [
    {
     "name": "stdout",
     "output_type": "stream",
     "text": [
      "Optimization terminated successfully.\n",
      "         Current function value: 0.250189\n",
      "         Iterations 8\n",
      "                           Logit Regression Results                           \n",
      "==============================================================================\n",
      "Dep. Variable:              Churn_num   No. Observations:                10000\n",
      "Model:                          Logit   Df Residuals:                     9992\n",
      "Method:                           MLE   Df Model:                            7\n",
      "Date:                Tue, 22 Feb 2022   Pseudo R-squ.:                  0.5673\n",
      "Time:                        15:11:45   Log-Likelihood:                -2501.9\n",
      "converged:                       True   LL-Null:                       -5782.2\n",
      "Covariance Type:            nonrobust   LLR p-value:                     0.000\n",
      "=======================================================================================\n",
      "                          coef    std err          z      P>|z|      [0.025      0.975]\n",
      "---------------------------------------------------------------------------------------\n",
      "Tenure                 -0.2765      0.014    -20.328      0.000      -0.303      -0.250\n",
      "MonthlyCharge          -0.0146      0.001    -17.614      0.000      -0.016      -0.013\n",
      "Bandwidth_GB_Year       0.0021      0.000     13.812      0.000       0.002       0.002\n",
      "Multiple_num            1.5815      0.087     18.078      0.000       1.410       1.753\n",
      "StreamingTV_num         2.5241      0.101     24.877      0.000       2.325       2.723\n",
      "StreamingMovies_num     3.1948      0.110     29.017      0.000       2.979       3.411\n",
      "One year               -3.0891      0.112    -27.533      0.000      -3.309      -2.869\n",
      "Two Year               -3.2014      0.110    -29.077      0.000      -3.417      -2.986\n",
      "=======================================================================================\n"
     ]
    }
   ],
   "source": [
    "#Run reduced model with logit\n",
    "reduced_model = sm.Logit(y, X2).fit()\n",
    "print(reduced_model.summary())"
   ]
  },
  {
   "cell_type": "code",
   "execution_count": null,
   "id": "8412a649-6feb-4819-b049-a8fa7310c597",
   "metadata": {},
   "outputs": [],
   "source": []
  }
 ],
 "metadata": {
  "kernelspec": {
   "display_name": "Python 3",
   "language": "python",
   "name": "python3"
  },
  "language_info": {
   "codemirror_mode": {
    "name": "ipython",
    "version": 3
   },
   "file_extension": ".py",
   "mimetype": "text/x-python",
   "name": "python",
   "nbconvert_exporter": "python",
   "pygments_lexer": "ipython3",
   "version": "3.8.8"
  }
 },
 "nbformat": 4,
 "nbformat_minor": 5
}
