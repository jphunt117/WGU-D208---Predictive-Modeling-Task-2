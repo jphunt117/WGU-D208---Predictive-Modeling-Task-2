{
 "cells": [
  {
   "cell_type": "code",
   "execution_count": 1,
   "id": "ea7c7f67-4fd2-4724-8ade-a94bdab478ae",
   "metadata": {},
   "outputs": [],
   "source": [
    "#Import all packages\n",
    "import pandas as pd\n",
    "import numpy as np\n",
    "from pandas import Series, DataFrame\n",
    "\n",
    "import seaborn as sns\n",
    "import matplotlib.pyplot as plt\n",
    "%matplotlib inline\n",
    "\n",
    "import statsmodels.api as sm\n",
    "from scipy import stats\n",
    "\n",
    "import sklearn\n",
    "from sklearn import  preprocessing\n",
    "from sklearn.linear_model import LogisticRegression\n",
    "from sklearn.model_selection import train_test_split\n",
    "from sklearn import metrics\n",
    "from sklearn.metrics import classification_report"
   ]
  },
  {
   "cell_type": "code",
   "execution_count": 2,
   "id": "6c9bd14f-4138-4648-b365-d6f857b92a86",
   "metadata": {},
   "outputs": [
    {
     "data": {
      "text/html": [
       "<div>\n",
       "<style scoped>\n",
       "    .dataframe tbody tr th:only-of-type {\n",
       "        vertical-align: middle;\n",
       "    }\n",
       "\n",
       "    .dataframe tbody tr th {\n",
       "        vertical-align: top;\n",
       "    }\n",
       "\n",
       "    .dataframe thead th {\n",
       "        text-align: right;\n",
       "    }\n",
       "</style>\n",
       "<table border=\"1\" class=\"dataframe\">\n",
       "  <thead>\n",
       "    <tr style=\"text-align: right;\">\n",
       "      <th></th>\n",
       "      <th>CaseOrder</th>\n",
       "      <th>Zip</th>\n",
       "      <th>Lat</th>\n",
       "      <th>Lng</th>\n",
       "      <th>Population</th>\n",
       "      <th>Children</th>\n",
       "      <th>Age</th>\n",
       "      <th>Income</th>\n",
       "      <th>Outage_sec_perweek</th>\n",
       "      <th>Email</th>\n",
       "      <th>...</th>\n",
       "      <th>MonthlyCharge</th>\n",
       "      <th>Bandwidth_GB_Year</th>\n",
       "      <th>Item1</th>\n",
       "      <th>Item2</th>\n",
       "      <th>Item3</th>\n",
       "      <th>Item4</th>\n",
       "      <th>Item5</th>\n",
       "      <th>Item6</th>\n",
       "      <th>Item7</th>\n",
       "      <th>Item8</th>\n",
       "    </tr>\n",
       "  </thead>\n",
       "  <tbody>\n",
       "    <tr>\n",
       "      <th>count</th>\n",
       "      <td>10000.00000</td>\n",
       "      <td>10000.000000</td>\n",
       "      <td>10000.000000</td>\n",
       "      <td>10000.000000</td>\n",
       "      <td>10000.000000</td>\n",
       "      <td>10000.0000</td>\n",
       "      <td>10000.000000</td>\n",
       "      <td>10000.000000</td>\n",
       "      <td>10000.000000</td>\n",
       "      <td>10000.000000</td>\n",
       "      <td>...</td>\n",
       "      <td>10000.000000</td>\n",
       "      <td>10000.000000</td>\n",
       "      <td>10000.000000</td>\n",
       "      <td>10000.000000</td>\n",
       "      <td>10000.000000</td>\n",
       "      <td>10000.000000</td>\n",
       "      <td>10000.000000</td>\n",
       "      <td>10000.000000</td>\n",
       "      <td>10000.000000</td>\n",
       "      <td>10000.000000</td>\n",
       "    </tr>\n",
       "    <tr>\n",
       "      <th>mean</th>\n",
       "      <td>5000.50000</td>\n",
       "      <td>49153.319600</td>\n",
       "      <td>38.757567</td>\n",
       "      <td>-90.782536</td>\n",
       "      <td>9756.562400</td>\n",
       "      <td>2.0877</td>\n",
       "      <td>53.078400</td>\n",
       "      <td>39806.926771</td>\n",
       "      <td>10.001848</td>\n",
       "      <td>12.016000</td>\n",
       "      <td>...</td>\n",
       "      <td>172.624816</td>\n",
       "      <td>3392.341550</td>\n",
       "      <td>3.490800</td>\n",
       "      <td>3.505100</td>\n",
       "      <td>3.487000</td>\n",
       "      <td>3.497500</td>\n",
       "      <td>3.492900</td>\n",
       "      <td>3.497300</td>\n",
       "      <td>3.509500</td>\n",
       "      <td>3.495600</td>\n",
       "    </tr>\n",
       "    <tr>\n",
       "      <th>std</th>\n",
       "      <td>2886.89568</td>\n",
       "      <td>27532.196108</td>\n",
       "      <td>5.437389</td>\n",
       "      <td>15.156142</td>\n",
       "      <td>14432.698671</td>\n",
       "      <td>2.1472</td>\n",
       "      <td>20.698882</td>\n",
       "      <td>28199.916702</td>\n",
       "      <td>2.976019</td>\n",
       "      <td>3.025898</td>\n",
       "      <td>...</td>\n",
       "      <td>42.943094</td>\n",
       "      <td>2185.294852</td>\n",
       "      <td>1.037797</td>\n",
       "      <td>1.034641</td>\n",
       "      <td>1.027977</td>\n",
       "      <td>1.025816</td>\n",
       "      <td>1.024819</td>\n",
       "      <td>1.033586</td>\n",
       "      <td>1.028502</td>\n",
       "      <td>1.028633</td>\n",
       "    </tr>\n",
       "    <tr>\n",
       "      <th>min</th>\n",
       "      <td>1.00000</td>\n",
       "      <td>601.000000</td>\n",
       "      <td>17.966120</td>\n",
       "      <td>-171.688150</td>\n",
       "      <td>0.000000</td>\n",
       "      <td>0.0000</td>\n",
       "      <td>18.000000</td>\n",
       "      <td>348.670000</td>\n",
       "      <td>0.099747</td>\n",
       "      <td>1.000000</td>\n",
       "      <td>...</td>\n",
       "      <td>79.978860</td>\n",
       "      <td>155.506715</td>\n",
       "      <td>1.000000</td>\n",
       "      <td>1.000000</td>\n",
       "      <td>1.000000</td>\n",
       "      <td>1.000000</td>\n",
       "      <td>1.000000</td>\n",
       "      <td>1.000000</td>\n",
       "      <td>1.000000</td>\n",
       "      <td>1.000000</td>\n",
       "    </tr>\n",
       "    <tr>\n",
       "      <th>25%</th>\n",
       "      <td>2500.75000</td>\n",
       "      <td>26292.500000</td>\n",
       "      <td>35.341828</td>\n",
       "      <td>-97.082812</td>\n",
       "      <td>738.000000</td>\n",
       "      <td>0.0000</td>\n",
       "      <td>35.000000</td>\n",
       "      <td>19224.717500</td>\n",
       "      <td>8.018214</td>\n",
       "      <td>10.000000</td>\n",
       "      <td>...</td>\n",
       "      <td>139.979239</td>\n",
       "      <td>1236.470827</td>\n",
       "      <td>3.000000</td>\n",
       "      <td>3.000000</td>\n",
       "      <td>3.000000</td>\n",
       "      <td>3.000000</td>\n",
       "      <td>3.000000</td>\n",
       "      <td>3.000000</td>\n",
       "      <td>3.000000</td>\n",
       "      <td>3.000000</td>\n",
       "    </tr>\n",
       "    <tr>\n",
       "      <th>50%</th>\n",
       "      <td>5000.50000</td>\n",
       "      <td>48869.500000</td>\n",
       "      <td>39.395800</td>\n",
       "      <td>-87.918800</td>\n",
       "      <td>2910.500000</td>\n",
       "      <td>1.0000</td>\n",
       "      <td>53.000000</td>\n",
       "      <td>33170.605000</td>\n",
       "      <td>10.018560</td>\n",
       "      <td>12.000000</td>\n",
       "      <td>...</td>\n",
       "      <td>167.484700</td>\n",
       "      <td>3279.536903</td>\n",
       "      <td>3.000000</td>\n",
       "      <td>4.000000</td>\n",
       "      <td>3.000000</td>\n",
       "      <td>3.000000</td>\n",
       "      <td>3.000000</td>\n",
       "      <td>3.000000</td>\n",
       "      <td>4.000000</td>\n",
       "      <td>3.000000</td>\n",
       "    </tr>\n",
       "    <tr>\n",
       "      <th>75%</th>\n",
       "      <td>7500.25000</td>\n",
       "      <td>71866.500000</td>\n",
       "      <td>42.106908</td>\n",
       "      <td>-80.088745</td>\n",
       "      <td>13168.000000</td>\n",
       "      <td>3.0000</td>\n",
       "      <td>71.000000</td>\n",
       "      <td>53246.170000</td>\n",
       "      <td>11.969485</td>\n",
       "      <td>14.000000</td>\n",
       "      <td>...</td>\n",
       "      <td>200.734725</td>\n",
       "      <td>5586.141370</td>\n",
       "      <td>4.000000</td>\n",
       "      <td>4.000000</td>\n",
       "      <td>4.000000</td>\n",
       "      <td>4.000000</td>\n",
       "      <td>4.000000</td>\n",
       "      <td>4.000000</td>\n",
       "      <td>4.000000</td>\n",
       "      <td>4.000000</td>\n",
       "    </tr>\n",
       "    <tr>\n",
       "      <th>max</th>\n",
       "      <td>10000.00000</td>\n",
       "      <td>99929.000000</td>\n",
       "      <td>70.640660</td>\n",
       "      <td>-65.667850</td>\n",
       "      <td>111850.000000</td>\n",
       "      <td>10.0000</td>\n",
       "      <td>89.000000</td>\n",
       "      <td>258900.700000</td>\n",
       "      <td>21.207230</td>\n",
       "      <td>23.000000</td>\n",
       "      <td>...</td>\n",
       "      <td>290.160419</td>\n",
       "      <td>7158.981530</td>\n",
       "      <td>7.000000</td>\n",
       "      <td>7.000000</td>\n",
       "      <td>8.000000</td>\n",
       "      <td>7.000000</td>\n",
       "      <td>7.000000</td>\n",
       "      <td>8.000000</td>\n",
       "      <td>7.000000</td>\n",
       "      <td>8.000000</td>\n",
       "    </tr>\n",
       "  </tbody>\n",
       "</table>\n",
       "<p>8 rows × 23 columns</p>\n",
       "</div>"
      ],
      "text/plain": [
       "         CaseOrder           Zip           Lat           Lng     Population  \\\n",
       "count  10000.00000  10000.000000  10000.000000  10000.000000   10000.000000   \n",
       "mean    5000.50000  49153.319600     38.757567    -90.782536    9756.562400   \n",
       "std     2886.89568  27532.196108      5.437389     15.156142   14432.698671   \n",
       "min        1.00000    601.000000     17.966120   -171.688150       0.000000   \n",
       "25%     2500.75000  26292.500000     35.341828    -97.082812     738.000000   \n",
       "50%     5000.50000  48869.500000     39.395800    -87.918800    2910.500000   \n",
       "75%     7500.25000  71866.500000     42.106908    -80.088745   13168.000000   \n",
       "max    10000.00000  99929.000000     70.640660    -65.667850  111850.000000   \n",
       "\n",
       "         Children           Age         Income  Outage_sec_perweek  \\\n",
       "count  10000.0000  10000.000000   10000.000000        10000.000000   \n",
       "mean       2.0877     53.078400   39806.926771           10.001848   \n",
       "std        2.1472     20.698882   28199.916702            2.976019   \n",
       "min        0.0000     18.000000     348.670000            0.099747   \n",
       "25%        0.0000     35.000000   19224.717500            8.018214   \n",
       "50%        1.0000     53.000000   33170.605000           10.018560   \n",
       "75%        3.0000     71.000000   53246.170000           11.969485   \n",
       "max       10.0000     89.000000  258900.700000           21.207230   \n",
       "\n",
       "              Email  ...  MonthlyCharge  Bandwidth_GB_Year         Item1  \\\n",
       "count  10000.000000  ...   10000.000000       10000.000000  10000.000000   \n",
       "mean      12.016000  ...     172.624816        3392.341550      3.490800   \n",
       "std        3.025898  ...      42.943094        2185.294852      1.037797   \n",
       "min        1.000000  ...      79.978860         155.506715      1.000000   \n",
       "25%       10.000000  ...     139.979239        1236.470827      3.000000   \n",
       "50%       12.000000  ...     167.484700        3279.536903      3.000000   \n",
       "75%       14.000000  ...     200.734725        5586.141370      4.000000   \n",
       "max       23.000000  ...     290.160419        7158.981530      7.000000   \n",
       "\n",
       "              Item2         Item3         Item4         Item5         Item6  \\\n",
       "count  10000.000000  10000.000000  10000.000000  10000.000000  10000.000000   \n",
       "mean       3.505100      3.487000      3.497500      3.492900      3.497300   \n",
       "std        1.034641      1.027977      1.025816      1.024819      1.033586   \n",
       "min        1.000000      1.000000      1.000000      1.000000      1.000000   \n",
       "25%        3.000000      3.000000      3.000000      3.000000      3.000000   \n",
       "50%        4.000000      3.000000      3.000000      3.000000      3.000000   \n",
       "75%        4.000000      4.000000      4.000000      4.000000      4.000000   \n",
       "max        7.000000      8.000000      7.000000      7.000000      8.000000   \n",
       "\n",
       "              Item7         Item8  \n",
       "count  10000.000000  10000.000000  \n",
       "mean       3.509500      3.495600  \n",
       "std        1.028502      1.028633  \n",
       "min        1.000000      1.000000  \n",
       "25%        3.000000      3.000000  \n",
       "50%        4.000000      3.000000  \n",
       "75%        4.000000      4.000000  \n",
       "max        7.000000      8.000000  \n",
       "\n",
       "[8 rows x 23 columns]"
      ]
     },
     "execution_count": 2,
     "metadata": {},
     "output_type": "execute_result"
    }
   ],
   "source": [
    "#Load the data set into Pandas\n",
    "df = pd.read_csv('churn_clean.csv')\n",
    "df.describe()"
   ]
  },
  {
   "cell_type": "code",
   "execution_count": 3,
   "id": "de323487-6428-45c8-bfa3-5a0a006ec5f4",
   "metadata": {},
   "outputs": [
    {
     "data": {
      "text/html": [
       "<div>\n",
       "<style scoped>\n",
       "    .dataframe tbody tr th:only-of-type {\n",
       "        vertical-align: middle;\n",
       "    }\n",
       "\n",
       "    .dataframe tbody tr th {\n",
       "        vertical-align: top;\n",
       "    }\n",
       "\n",
       "    .dataframe thead th {\n",
       "        text-align: right;\n",
       "    }\n",
       "</style>\n",
       "<table border=\"1\" class=\"dataframe\">\n",
       "  <thead>\n",
       "    <tr style=\"text-align: right;\">\n",
       "      <th></th>\n",
       "      <th>Children</th>\n",
       "      <th>Age</th>\n",
       "      <th>Income</th>\n",
       "      <th>Outage_sec_perweek</th>\n",
       "      <th>Yearly_equip_failure</th>\n",
       "      <th>Tenure</th>\n",
       "      <th>MonthlyCharge</th>\n",
       "      <th>Bandwidth_GB_Year</th>\n",
       "    </tr>\n",
       "  </thead>\n",
       "  <tbody>\n",
       "    <tr>\n",
       "      <th>count</th>\n",
       "      <td>10000.0000</td>\n",
       "      <td>10000.000000</td>\n",
       "      <td>10000.000000</td>\n",
       "      <td>10000.000000</td>\n",
       "      <td>10000.000000</td>\n",
       "      <td>10000.000000</td>\n",
       "      <td>10000.000000</td>\n",
       "      <td>10000.000000</td>\n",
       "    </tr>\n",
       "    <tr>\n",
       "      <th>mean</th>\n",
       "      <td>2.0877</td>\n",
       "      <td>53.078400</td>\n",
       "      <td>39806.926771</td>\n",
       "      <td>10.001848</td>\n",
       "      <td>0.398000</td>\n",
       "      <td>34.526188</td>\n",
       "      <td>172.624816</td>\n",
       "      <td>3392.341550</td>\n",
       "    </tr>\n",
       "    <tr>\n",
       "      <th>std</th>\n",
       "      <td>2.1472</td>\n",
       "      <td>20.698882</td>\n",
       "      <td>28199.916702</td>\n",
       "      <td>2.976019</td>\n",
       "      <td>0.635953</td>\n",
       "      <td>26.443063</td>\n",
       "      <td>42.943094</td>\n",
       "      <td>2185.294852</td>\n",
       "    </tr>\n",
       "    <tr>\n",
       "      <th>min</th>\n",
       "      <td>0.0000</td>\n",
       "      <td>18.000000</td>\n",
       "      <td>348.670000</td>\n",
       "      <td>0.099747</td>\n",
       "      <td>0.000000</td>\n",
       "      <td>1.000259</td>\n",
       "      <td>79.978860</td>\n",
       "      <td>155.506715</td>\n",
       "    </tr>\n",
       "    <tr>\n",
       "      <th>25%</th>\n",
       "      <td>0.0000</td>\n",
       "      <td>35.000000</td>\n",
       "      <td>19224.717500</td>\n",
       "      <td>8.018214</td>\n",
       "      <td>0.000000</td>\n",
       "      <td>7.917694</td>\n",
       "      <td>139.979239</td>\n",
       "      <td>1236.470827</td>\n",
       "    </tr>\n",
       "    <tr>\n",
       "      <th>50%</th>\n",
       "      <td>1.0000</td>\n",
       "      <td>53.000000</td>\n",
       "      <td>33170.605000</td>\n",
       "      <td>10.018560</td>\n",
       "      <td>0.000000</td>\n",
       "      <td>35.430507</td>\n",
       "      <td>167.484700</td>\n",
       "      <td>3279.536903</td>\n",
       "    </tr>\n",
       "    <tr>\n",
       "      <th>75%</th>\n",
       "      <td>3.0000</td>\n",
       "      <td>71.000000</td>\n",
       "      <td>53246.170000</td>\n",
       "      <td>11.969485</td>\n",
       "      <td>1.000000</td>\n",
       "      <td>61.479795</td>\n",
       "      <td>200.734725</td>\n",
       "      <td>5586.141370</td>\n",
       "    </tr>\n",
       "    <tr>\n",
       "      <th>max</th>\n",
       "      <td>10.0000</td>\n",
       "      <td>89.000000</td>\n",
       "      <td>258900.700000</td>\n",
       "      <td>21.207230</td>\n",
       "      <td>6.000000</td>\n",
       "      <td>71.999280</td>\n",
       "      <td>290.160419</td>\n",
       "      <td>7158.981530</td>\n",
       "    </tr>\n",
       "  </tbody>\n",
       "</table>\n",
       "</div>"
      ],
      "text/plain": [
       "         Children           Age         Income  Outage_sec_perweek  \\\n",
       "count  10000.0000  10000.000000   10000.000000        10000.000000   \n",
       "mean       2.0877     53.078400   39806.926771           10.001848   \n",
       "std        2.1472     20.698882   28199.916702            2.976019   \n",
       "min        0.0000     18.000000     348.670000            0.099747   \n",
       "25%        0.0000     35.000000   19224.717500            8.018214   \n",
       "50%        1.0000     53.000000   33170.605000           10.018560   \n",
       "75%        3.0000     71.000000   53246.170000           11.969485   \n",
       "max       10.0000     89.000000  258900.700000           21.207230   \n",
       "\n",
       "       Yearly_equip_failure        Tenure  MonthlyCharge  Bandwidth_GB_Year  \n",
       "count          10000.000000  10000.000000   10000.000000       10000.000000  \n",
       "mean               0.398000     34.526188     172.624816        3392.341550  \n",
       "std                0.635953     26.443063      42.943094        2185.294852  \n",
       "min                0.000000      1.000259      79.978860         155.506715  \n",
       "25%                0.000000      7.917694     139.979239        1236.470827  \n",
       "50%                0.000000     35.430507     167.484700        3279.536903  \n",
       "75%                1.000000     61.479795     200.734725        5586.141370  \n",
       "max                6.000000     71.999280     290.160419        7158.981530  "
      ]
     },
     "execution_count": 3,
     "metadata": {},
     "output_type": "execute_result"
    }
   ],
   "source": [
    "#Drop the less meaningful columns from the data set\n",
    "df = df.drop(columns = ['CaseOrder', 'Customer_id', 'Interaction', 'UID', 'City', 'State', 'County', 'Zip', 'Lat', 'Lng',\n",
    "                        'Population', 'Area', 'TimeZone', 'Job', 'Marital', 'Email', 'Contacts', 'Techie','PaperlessBilling', 'Port_modem',\n",
    "                        'PaymentMethod', 'Item1', 'Item2', 'Item3', 'Item4', 'Item5', 'Item6', 'Item7', 'Item8'])\n",
    "df.describe()"
   ]
  },
  {
   "cell_type": "code",
   "execution_count": 4,
   "id": "8974dd4b-b3a5-47cd-b971-165765d0d9d4",
   "metadata": {},
   "outputs": [
    {
     "data": {
      "text/plain": [
       "Children                0\n",
       "Age                     0\n",
       "Income                  0\n",
       "Gender                  0\n",
       "Churn                   0\n",
       "Outage_sec_perweek      0\n",
       "Yearly_equip_failure    0\n",
       "Contract                0\n",
       "Tablet                  0\n",
       "InternetService         0\n",
       "Phone                   0\n",
       "Multiple                0\n",
       "OnlineSecurity          0\n",
       "OnlineBackup            0\n",
       "DeviceProtection        0\n",
       "TechSupport             0\n",
       "StreamingTV             0\n",
       "StreamingMovies         0\n",
       "Tenure                  0\n",
       "MonthlyCharge           0\n",
       "Bandwidth_GB_Year       0\n",
       "dtype: int64"
      ]
     },
     "execution_count": 4,
     "metadata": {},
     "output_type": "execute_result"
    }
   ],
   "source": [
    "#Search for missing data\n",
    "df.isnull().sum()"
   ]
  },
  {
   "cell_type": "code",
   "execution_count": 5,
   "id": "8911c9ec-596f-44e0-bec4-debcf2f2712b",
   "metadata": {},
   "outputs": [],
   "source": [
    "#No missing data, now to use ordinal encoding to replace the categorical values with numeric ones\n",
    "#Yes to 1, No to 0\n",
    "df['Churn_num'] = df['Churn']\n",
    "df['Tablet_num'] = df['Tablet']\n",
    "df['Phone_num'] = df['Phone']\n",
    "df['Multiple_num'] = df['Multiple']\n",
    "df['OnlineSecurity_num'] = df['OnlineSecurity']\n",
    "df['OnlineBackup_num'] = df['OnlineBackup']\n",
    "df['DeviceProtection_num'] = df['DeviceProtection']\n",
    "df['TechSupport_num'] = df['TechSupport']\n",
    "df['StreamingTV_num'] = df['StreamingTV']\n",
    "df['StreamingMovies_num'] = df['StreamingMovies']"
   ]
  },
  {
   "cell_type": "code",
   "execution_count": 6,
   "id": "bf112d53-a139-48b5-8dd3-1d1a2af8e6ff",
   "metadata": {},
   "outputs": [],
   "source": [
    "#Set up dictionary for converting to numeric values\n",
    "dict_churn = {\"Churn_num\" : {\"Yes\" : 1, \"No\" : 0}}\n",
    "dict_tablet = {\"Tablet_num\" : {\"Yes\" : 1, \"No\" : 0}}\n",
    "dict_phone = {\"Phone_num\" : {\"Yes\" : 1, \"No\" : 0}}\n",
    "dict_multiple = {\"Multiple_num\" : {\"Yes\" : 1, \"No\" : 0}}\n",
    "dict_security = {\"OnlineSecurity_num\" : {\"Yes\" : 1, \"No\" : 0}}\n",
    "dict_backup = {\"OnlineBackup_num\" : {\"Yes\" : 1, \"No\" : 0}}\n",
    "dict_protection = {\"DeviceProtection_num\" : {\"Yes\" : 1, \"No\" : 0}}\n",
    "dict_tech = {\"TechSupport_num\" : {\"Yes\" : 1, \"No\" : 0}}\n",
    "dict_tv = {\"StreamingTV_num\" : {\"Yes\" : 1, \"No\" : 0}}\n",
    "dict_movie = {\"StreamingMovies_num\" : {\"Yes\" : 1, \"No\" : 0}}"
   ]
  },
  {
   "cell_type": "code",
   "execution_count": 7,
   "id": "a5862b8b-05b8-4113-9acd-d8ecd592e514",
   "metadata": {},
   "outputs": [],
   "source": [
    "#Replace the variables values\n",
    "df.replace(dict_churn, inplace = True)\n",
    "df.replace(dict_tablet, inplace = True)\n",
    "df.replace(dict_phone, inplace = True)\n",
    "df.replace(dict_multiple, inplace = True)\n",
    "df.replace(dict_security, inplace = True)\n",
    "df.replace(dict_backup, inplace = True)\n",
    "df.replace(dict_protection, inplace = True)\n",
    "df.replace(dict_tech, inplace = True)\n",
    "df.replace(dict_tv, inplace = True)\n",
    "df.replace(dict_movie, inplace = True)"
   ]
  },
  {
   "cell_type": "code",
   "execution_count": 8,
   "id": "776c65a2-565b-47d2-86b5-6531bc770560",
   "metadata": {},
   "outputs": [
    {
     "name": "stdout",
     "output_type": "stream",
     "text": [
      "<class 'pandas.core.frame.DataFrame'>\n",
      "RangeIndex: 10000 entries, 0 to 9999\n",
      "Data columns (total 21 columns):\n",
      " #   Column                Non-Null Count  Dtype  \n",
      "---  ------                --------------  -----  \n",
      " 0   Children              10000 non-null  int64  \n",
      " 1   Age                   10000 non-null  int64  \n",
      " 2   Income                10000 non-null  float64\n",
      " 3   Gender                10000 non-null  object \n",
      " 4   Outage_sec_perweek    10000 non-null  float64\n",
      " 5   Yearly_equip_failure  10000 non-null  int64  \n",
      " 6   Contract              10000 non-null  object \n",
      " 7   InternetService       10000 non-null  object \n",
      " 8   Tenure                10000 non-null  float64\n",
      " 9   MonthlyCharge         10000 non-null  float64\n",
      " 10  Bandwidth_GB_Year     10000 non-null  float64\n",
      " 11  Churn_num             10000 non-null  int64  \n",
      " 12  Tablet_num            10000 non-null  int64  \n",
      " 13  Phone_num             10000 non-null  int64  \n",
      " 14  Multiple_num          10000 non-null  int64  \n",
      " 15  OnlineSecurity_num    10000 non-null  int64  \n",
      " 16  OnlineBackup_num      10000 non-null  int64  \n",
      " 17  DeviceProtection_num  10000 non-null  int64  \n",
      " 18  TechSupport_num       10000 non-null  int64  \n",
      " 19  StreamingTV_num       10000 non-null  int64  \n",
      " 20  StreamingMovies_num   10000 non-null  int64  \n",
      "dtypes: float64(5), int64(13), object(3)\n",
      "memory usage: 1.6+ MB\n"
     ]
    }
   ],
   "source": [
    "#Now that we have those as numeric, we can drop the original columns\n",
    "df = df.drop(columns = ['Churn', 'Tablet', 'Phone', 'Multiple', 'OnlineSecurity','OnlineBackup', 'DeviceProtection', 'TechSupport', 'StreamingTV', 'StreamingMovies'])\n",
    "df.info()"
   ]
  },
  {
   "cell_type": "code",
   "execution_count": 9,
   "id": "911de42c-40e6-45df-b64c-15582d0f33d5",
   "metadata": {},
   "outputs": [
    {
     "name": "stdout",
     "output_type": "stream",
     "text": [
      "<class 'pandas.core.frame.DataFrame'>\n",
      "RangeIndex: 10000 entries, 0 to 9999\n",
      "Data columns (total 27 columns):\n",
      " #   Column                Non-Null Count  Dtype  \n",
      "---  ------                --------------  -----  \n",
      " 0   Children              10000 non-null  int64  \n",
      " 1   Age                   10000 non-null  int64  \n",
      " 2   Income                10000 non-null  float64\n",
      " 3   Gender                10000 non-null  object \n",
      " 4   Outage_sec_perweek    10000 non-null  float64\n",
      " 5   Yearly_equip_failure  10000 non-null  int64  \n",
      " 6   Contract              10000 non-null  object \n",
      " 7   InternetService       10000 non-null  object \n",
      " 8   Tenure                10000 non-null  float64\n",
      " 9   MonthlyCharge         10000 non-null  float64\n",
      " 10  Bandwidth_GB_Year     10000 non-null  float64\n",
      " 11  Churn_num             10000 non-null  int64  \n",
      " 12  Tablet_num            10000 non-null  int64  \n",
      " 13  Phone_num             10000 non-null  int64  \n",
      " 14  Multiple_num          10000 non-null  int64  \n",
      " 15  OnlineSecurity_num    10000 non-null  int64  \n",
      " 16  OnlineBackup_num      10000 non-null  int64  \n",
      " 17  DeviceProtection_num  10000 non-null  int64  \n",
      " 18  TechSupport_num       10000 non-null  int64  \n",
      " 19  StreamingTV_num       10000 non-null  int64  \n",
      " 20  StreamingMovies_num   10000 non-null  int64  \n",
      " 21  One year              10000 non-null  uint8  \n",
      " 22  Two Year              10000 non-null  uint8  \n",
      " 23  Fiber Optic           10000 non-null  uint8  \n",
      " 24  None                  10000 non-null  uint8  \n",
      " 25  Male                  10000 non-null  uint8  \n",
      " 26  Nonbinary             10000 non-null  uint8  \n",
      "dtypes: float64(5), int64(13), object(3), uint8(6)\n",
      "memory usage: 1.7+ MB\n"
     ]
    }
   ],
   "source": [
    "#Now we use dummies and one-hot encoding for the categorical variables with n-levels\n",
    "contract = pd.get_dummies(df['Contract'], drop_first = True)\n",
    "internet = pd.get_dummies(df['InternetService'], drop_first = True)\n",
    "gender = pd.get_dummies(df['Gender'], drop_first = True)\n",
    "df = df.join(contract)\n",
    "df = df.join(internet)\n",
    "df = df.join(gender)\n",
    "df.info()"
   ]
  },
  {
   "cell_type": "code",
   "execution_count": 10,
   "id": "e65d97be-7a6d-4281-96fe-61aa99ac8338",
   "metadata": {},
   "outputs": [],
   "source": [
    "#Drop original columns\n",
    "df = df.drop(columns = ['Contract', 'InternetService', 'Gender'])"
   ]
  },
  {
   "cell_type": "code",
   "execution_count": 11,
   "id": "b78e2a30-10d2-4868-8df6-848d050956ca",
   "metadata": {},
   "outputs": [],
   "source": [
    "#Move response variable to the front\n",
    "df = df.set_index('Churn_num').reset_index()"
   ]
  },
  {
   "cell_type": "code",
   "execution_count": 12,
   "id": "88f139b6-b29f-4fa4-a7d8-f8002202ad67",
   "metadata": {},
   "outputs": [
    {
     "name": "stdout",
     "output_type": "stream",
     "text": [
      "<class 'pandas.core.frame.DataFrame'>\n",
      "RangeIndex: 10000 entries, 0 to 9999\n",
      "Data columns (total 24 columns):\n",
      " #   Column                Non-Null Count  Dtype  \n",
      "---  ------                --------------  -----  \n",
      " 0   Churn_num             10000 non-null  int64  \n",
      " 1   Children              10000 non-null  int64  \n",
      " 2   Age                   10000 non-null  int64  \n",
      " 3   Income                10000 non-null  float64\n",
      " 4   Outage_sec_perweek    10000 non-null  float64\n",
      " 5   Yearly_equip_failure  10000 non-null  int64  \n",
      " 6   Tenure                10000 non-null  float64\n",
      " 7   MonthlyCharge         10000 non-null  float64\n",
      " 8   Bandwidth_GB_Year     10000 non-null  float64\n",
      " 9   Tablet_num            10000 non-null  int64  \n",
      " 10  Phone_num             10000 non-null  int64  \n",
      " 11  Multiple_num          10000 non-null  int64  \n",
      " 12  OnlineSecurity_num    10000 non-null  int64  \n",
      " 13  OnlineBackup_num      10000 non-null  int64  \n",
      " 14  DeviceProtection_num  10000 non-null  int64  \n",
      " 15  TechSupport_num       10000 non-null  int64  \n",
      " 16  StreamingTV_num       10000 non-null  int64  \n",
      " 17  StreamingMovies_num   10000 non-null  int64  \n",
      " 18  One year              10000 non-null  uint8  \n",
      " 19  Two Year              10000 non-null  uint8  \n",
      " 20  Fiber Optic           10000 non-null  uint8  \n",
      " 21  None                  10000 non-null  uint8  \n",
      " 22  Male                  10000 non-null  uint8  \n",
      " 23  Nonbinary             10000 non-null  uint8  \n",
      "dtypes: float64(5), int64(13), uint8(6)\n",
      "memory usage: 1.4 MB\n"
     ]
    }
   ],
   "source": [
    "df.info()"
   ]
  },
  {
   "cell_type": "code",
   "execution_count": 13,
   "id": "995f4cff-9bfd-44a9-a8b7-572c6e4ce9b1",
   "metadata": {},
   "outputs": [
    {
     "data": {
      "text/plain": [
       "array([[<AxesSubplot:title={'center':'Children'}>,\n",
       "        <AxesSubplot:title={'center':'Age'}>],\n",
       "       [<AxesSubplot:title={'center':'Income'}>,\n",
       "        <AxesSubplot:title={'center':'Outage_sec_perweek'}>]],\n",
       "      dtype=object)"
      ]
     },
     "execution_count": 13,
     "metadata": {},
     "output_type": "execute_result"
    },
    {
     "data": {
      "image/png": "[encoded data removed]",
      "text/plain": [
       "<Figure size 1008x792 with 4 Axes>"
      ]
     },
     "metadata": {
      "needs_background": "light"
     },
     "output_type": "display_data"
    }
   ],
   "source": [
    "#For univariate statistics, create histograms for the continuous and categorical variables\n",
    "df[['Children', 'Age', 'Income', 'Outage_sec_perweek']].hist(ec = \"black\", figsize = (14, 11))\n",
    "#plt.savefig('Histogram1.jpg')"
   ]
  },
  {
   "cell_type": "code",
   "execution_count": 14,
   "id": "62a6209f-838f-4ea3-8e7a-0239d4c0af25",
   "metadata": {},
   "outputs": [
    {
     "data": {
      "text/plain": [
       "array([[<AxesSubplot:title={'center':'Yearly_equip_failure'}>,\n",
       "        <AxesSubplot:title={'center':'Tenure'}>],\n",
       "       [<AxesSubplot:title={'center':'MonthlyCharge'}>,\n",
       "        <AxesSubplot:title={'center':'Bandwidth_GB_Year'}>]], dtype=object)"
      ]
     },
     "execution_count": 14,
     "metadata": {},
     "output_type": "execute_result"
    },
    {
     "data": {
      "image/png": "[encoded data removed]",
      "text/plain": [
       "<Figure size 1008x792 with 4 Axes>"
      ]
     },
     "metadata": {
      "needs_background": "light"
     },
     "output_type": "display_data"
    }
   ],
   "source": [
    "#For univariate statistics, create histograms for the continuous and categorical variables\n",
    "df[['Yearly_equip_failure', 'Tenure', 'MonthlyCharge', 'Bandwidth_GB_Year']].hist(ec = \"black\", figsize = (14, 11))\n",
    "#plt.savefig('Histogram2.jpg')"
   ]
  },
  {
   "cell_type": "code",
   "execution_count": 15,
   "id": "0bb7496c-e7e1-4418-852d-88bc01353571",
   "metadata": {},
   "outputs": [],
   "source": [
    "#For bivariate statistics create some scatterplots with a few variables with our response variable as the y-axis\n",
    "#First, creating a random sampling of 25% of the data set for the scatterplots to improve visibility[3]\n",
    "subset = df.sample(frac = 0.25)"
   ]
  },
  {
   "cell_type": "code",
   "execution_count": 16,
   "id": "8034e1ee-c893-4447-8580-00b31718c279",
   "metadata": {},
   "outputs": [
    {
     "data": {
      "image/png": "[encoded data removed]",
      "text/plain": [
       "<Figure size 432x288 with 1 Axes>"
      ]
     },
     "metadata": {
      "needs_background": "light"
     },
     "output_type": "display_data"
    }
   ],
   "source": [
    "ax = sns.regplot(x = \"MonthlyCharge\", y = \"Churn_num\", data = subset, logistic = True, ci = None)\n",
    "#plt.savefig('Charge.jpg')"
   ]
  },
  {
   "cell_type": "code",
   "execution_count": 17,
   "id": "655ba471-b693-42d8-9c8d-23352d5d62b9",
   "metadata": {},
   "outputs": [
    {
     "data": {
      "image/png": "[encoded data removed]",
      "text/plain": [
       "<Figure size 432x288 with 1 Axes>"
      ]
     },
     "metadata": {
      "needs_background": "light"
     },
     "output_type": "display_data"
    }
   ],
   "source": [
    "ax = sns.regplot(x = \"Tenure\", y = \"Churn_num\", data = subset, logistic = True, ci = None)\n",
    "#plt.savefig('Tenure.jpg')"
   ]
  },
  {
   "cell_type": "code",
   "execution_count": 18,
   "id": "ea407325-8df9-4c6e-a88b-9337f7715ec6",
   "metadata": {},
   "outputs": [
    {
     "data": {
      "image/png": "[encoded data removed]",
      "text/plain": [
       "<Figure size 432x288 with 1 Axes>"
      ]
     },
     "metadata": {
      "needs_background": "light"
     },
     "output_type": "display_data"
    }
   ],
   "source": [
    "ax = sns.regplot(x = \"Bandwidth_GB_Year\", y = \"Churn_num\", data = subset, logistic = True, ci = None)\n",
    "#plt.savefig('Bandwidth.jpg')"
   ]
  },
  {
   "cell_type": "code",
   "execution_count": 19,
   "id": "8371db30-9b15-47eb-8fa7-a231dcd3fdd9",
   "metadata": {},
   "outputs": [
    {
     "data": {
      "image/png": "[encoded data removed]",
      "text/plain": [
       "<Figure size 432x288 with 1 Axes>"
      ]
     },
     "metadata": {
      "needs_background": "light"
     },
     "output_type": "display_data"
    }
   ],
   "source": [
    "ax = sns.regplot(x = \"Children\", y = \"Churn_num\", data = subset, logistic = True, ci = None)\n",
    "#plt.savefig('Children.jpg')"
   ]
  },
  {
   "cell_type": "code",
   "execution_count": 20,
   "id": "2c8c1ee3-6c4c-4e37-9418-f63862e46f9d",
   "metadata": {},
   "outputs": [
    {
     "data": {
      "image/png": "[encoded data removed]",
      "text/plain": [
       "<Figure size 432x288 with 1 Axes>"
      ]
     },
     "metadata": {
      "needs_background": "light"
     },
     "output_type": "display_data"
    }
   ],
   "source": [
    "ax = sns.regplot(x = \"Age\", y = \"Churn_num\", data = subset, logistic = True, ci = None)\n",
    "#plt.savefig('Age.jpg')"
   ]
  },
  {
   "cell_type": "code",
   "execution_count": 21,
   "id": "347e79fb-36ec-4a0d-a86b-a46127ab0a80",
   "metadata": {},
   "outputs": [
    {
     "data": {
      "image/png": "[encoded data removed]",
      "text/plain": [
       "<Figure size 432x288 with 1 Axes>"
      ]
     },
     "metadata": {
      "needs_background": "light"
     },
     "output_type": "display_data"
    }
   ],
   "source": [
    "ax = sns.regplot(x = \"Outage_sec_perweek\", y = \"Churn_num\", data = subset, logistic = True, ci = None)\n",
    "#plt.savefig('Outage.jpg')"
   ]
  },
  {
   "cell_type": "code",
   "execution_count": 22,
   "id": "070150b9-c8aa-41b7-8598-67c5e8d29420",
   "metadata": {},
   "outputs": [
    {
     "data": {
      "image/png": "[encoded data removed]",
      "text/plain": [
       "<Figure size 432x288 with 1 Axes>"
      ]
     },
     "metadata": {
      "needs_background": "light"
     },
     "output_type": "display_data"
    }
   ],
   "source": [
    "ax = sns.regplot(x = \"Yearly_equip_failure\", y = \"Churn_num\", data = subset, logistic = True, ci = None)\n",
    "#plt.savefig('Yearly.jpg')"
   ]
  },
  {
   "cell_type": "code",
   "execution_count": 25,
   "id": "52149e59-d88c-4a7d-a83b-c94957e2cf7c",
   "metadata": {},
   "outputs": [
    {
     "data": {
      "image/png": "[encoded data removed]",
      "text/plain": [
       "<Figure size 432x288 with 1 Axes>"
      ]
     },
     "metadata": {
      "needs_background": "light"
     },
     "output_type": "display_data"
    }
   ],
   "source": [
    "ax = sns.regplot(x = \"Income\", y = \"Churn_num\", data = subset, logistic = True, ci = None)\n",
    "plt.savefig('Income.jpg')"
   ]
  },
  {
   "cell_type": "code",
   "execution_count": 24,
   "id": "d5dc2dac-8cbf-40ff-8416-908cbee1f1ba",
   "metadata": {},
   "outputs": [],
   "source": [
    "#Extract prepared dataset\n",
    "df.to_csv('churn_prepared.csv')"
   ]
  },
  {
   "cell_type": "code",
   "execution_count": null,
   "id": "e717d706-1d93-4e66-a808-b00ab4d218a9",
   "metadata": {},
   "outputs": [],
   "source": []
  }
 ],
 "metadata": {
  "kernelspec": {
   "display_name": "Python 3",
   "language": "python",
   "name": "python3"
  },
  "language_info": {
   "codemirror_mode": {
    "name": "ipython",
    "version": 3
   },
   "file_extension": ".py",
   "mimetype": "text/x-python",
   "name": "python",
   "nbconvert_exporter": "python",
   "pygments_lexer": "ipython3",
   "version": "3.8.8"
  }
 },
 "nbformat": 4,
 "nbformat_minor": 5
}
